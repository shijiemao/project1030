{
 "cells": [
  {
   "cell_type": "code",
   "execution_count": 3,
   "metadata": {},
   "outputs": [
    {
     "data": {
      "text/plain": [
       "\"/var/folders/hr/tf7gyxr945b9b1qvglswj5th0000gn/T/jl_m5Qe9u\""
      ]
     },
     "execution_count": 3,
     "metadata": {},
     "output_type": "execute_result"
    }
   ],
   "source": [
    "script = download(\"https://raw.githubusercontent.com/data-gymnasia/julia-binder/master/data-gymnasia/exam-studying.jl\")\n",
    "include(script)\n",
    "y = [Y for (X,Y) in observations]\n",
    "X = [ones(n) [X for (X,Y) in observations]]\n",
    "β = (X'*X) \\ X'*y # (computes (X'X)⁻¹X'y)\n",
    "scatter(observations, label = \"observations\")\n",
    "plot!(xs, \n",
    "      [β'*[1,x] for x in xs], \n",
    "      label = \"empirical risk minimizer\",\n",
    "      linewidth = 3)\n",
    "script"
   ]
  },
  {
   "cell_type": "code",
   "execution_count": null,
   "metadata": {},
   "outputs": [],
   "source": []
  }
 ],
 "metadata": {
  "kernelspec": {
   "display_name": "Julia 1.6.2",
   "language": "julia",
   "name": "julia-1.6"
  },
  "language_info": {
   "file_extension": ".jl",
   "mimetype": "application/julia",
   "name": "julia",
   "version": "1.6.2"
  }
 },
 "nbformat": 4,
 "nbformat_minor": 4
}
