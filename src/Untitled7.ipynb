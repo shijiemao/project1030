{
 "cells": [
  {
   "cell_type": "code",
   "execution_count": 1,
   "metadata": {},
   "outputs": [],
   "source": [
    "using LinearAlgebra, Statistics, Roots, Optim, Plots, Random, Distributions\n",
    "\n",
    "number = 1000\n",
    "x = rand(Uniform(0,1),number)\n",
    "ϵ = rand(Normal(0,0.5),1)\n",
    "y = 2 .+ 1.2 .* x .+ ϵ\n",
    "observations =[]\n",
    "for i in 1:number\n",
    "    push!(observations,(x[i],y[i]))\n",
    "end\n"
   ]
  },
  {
   "cell_type": "code",
   "execution_count": null,
   "metadata": {},
   "outputs": [],
   "source": [
    "function kdeCV(λ,i,observations)\n",
    "    x,y = observations[i]\n",
    "    newobservations = copy(observations)\n",
    "    deleteat!(newobservations,i)\n",
    "    kde(λ,x,y,newobservations)\n",
    "end\n",
    "xs = 0:1/2^3:20\n",
    "ys = 0:1/2^3:10\n",
    "D(u) = abs(u) < 1 ? 70/81*(1-abs(u)^3)^3 : 0 \n",
    "D(λ,u) = 1/λ*D(u/λ) \n",
    "K(λ,x,y) = D(λ,x) * D(λ,y) \n",
    "kde(λ,x,y,observations) = sum(K(λ,x-Xi,y-Yi) for (Xi,Yi) in observations)/length(observations)\n",
    "\n",
    "\n",
    "J(λ) = sum([kde(λ,x,y,observations)^2 for x=xs,y=ys])*step(xs)*step(ys) -\n",
    "        2/length(observations)*sum(kdeCV(λ,i,observations) for i=1:length(observations))\n",
    "λ_best_cv = optimize(λ->J(first(λ)),[1.0],BFGS())"
   ]
  },
  {
   "cell_type": "code",
   "execution_count": null,
   "metadata": {},
   "outputs": [],
   "source": []
  }
 ],
 "metadata": {
  "kernelspec": {
   "display_name": "Julia 1.6.2",
   "language": "julia",
   "name": "julia-1.6"
  },
  "language_info": {
   "file_extension": ".jl",
   "mimetype": "application/julia",
   "name": "julia",
   "version": "1.6.2"
  }
 },
 "nbformat": 4,
 "nbformat_minor": 4
}
